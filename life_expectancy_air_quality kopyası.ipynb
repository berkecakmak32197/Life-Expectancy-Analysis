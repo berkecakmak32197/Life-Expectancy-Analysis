{
  "cells": [
    {
      "cell_type": "markdown",
      "id": "3dbcee5a",
      "metadata": {
        "id": "3dbcee5a"
      },
      "source": [
        "Life Expectancy and Air Quality Analysis\n",
        "DSA 210 Introduction to Data Science Project"
      ]
    },
    {
      "cell_type": "markdown",
      "id": "f5a24595",
      "metadata": {
        "id": "f5a24595"
      },
      "source": [
        "Necessary imports"
      ]
    },
    {
      "cell_type": "code",
      "execution_count": 2,
      "id": "03fc59f3",
      "metadata": {
        "id": "03fc59f3"
      },
      "outputs": [],
      "source": [
        "#Necessary libraries\n",
        "import pandas as pd\n",
        "import numpy as np\n",
        "import matplotlib.pyplot as plt\n",
        "import seaborn as sns\n",
        "from scipy import stats\n",
        "import os\n",
        "from sklearn.model_selection import train_test_split\n",
        "from sklearn.linear_model import LinearRegression\n",
        "from sklearn.metrics import mean_squared_error, r2_score"
      ]
    },
    {
      "cell_type": "markdown",
      "id": "5b5b2a7a",
      "metadata": {
        "id": "5b5b2a7a"
      },
      "source": [
        "Setup the folder images"
      ]
    },
    {
      "cell_type": "code",
      "execution_count": 3,
      "id": "09309826",
      "metadata": {
        "id": "09309826"
      },
      "outputs": [],
      "source": [
        "if not os.path.exists('images'):\n",
        "    os.makedirs('images')\n"
      ]
    },
    {
      "cell_type": "markdown",
      "id": "915766ab",
      "metadata": {
        "id": "915766ab"
      },
      "source": [
        "Loading Data From csv files"
      ]
    },
    {
      "cell_type": "code",
      "execution_count": 4,
      "id": "6d1cc68b",
      "metadata": {
        "colab": {
          "base_uri": "https://localhost:8080/"
        },
        "id": "6d1cc68b",
        "outputId": "0f06faee-b0b7-496b-da86-3a7f94158795"
      },
      "outputs": [
        {
          "output_type": "stream",
          "name": "stdout",
          "text": [
            "Loaded data: 2938 life expectancy records and 18227 air quality records\n"
          ]
        }
      ],
      "source": [
        "life_exp_data = pd.read_csv('Life Expectancy Data.csv')\n",
        "air_quality_data = pd.read_csv('data_date.csv')\n",
        "\n",
        "print(f\"Loaded data: {life_exp_data.shape[0]} life expectancy records and {air_quality_data.shape[0]} air quality records\")"
      ]
    },
    {
      "cell_type": "markdown",
      "id": "69ca100c",
      "metadata": {
        "id": "69ca100c"
      },
      "source": [
        "Show Sample Data and the range of Years for that dataset"
      ]
    },
    {
      "cell_type": "code",
      "execution_count": 5,
      "id": "16897bdd",
      "metadata": {
        "colab": {
          "base_uri": "https://localhost:8080/"
        },
        "id": "16897bdd",
        "outputId": "3d92548a-9ddc-4c74-f631-1af7726a9a67"
      },
      "outputs": [
        {
          "output_type": "stream",
          "name": "stdout",
          "text": [
            "\n",
            "Sample of life expectancy data:\n",
            "       Country  Year      Status  Life expectancy   Adult Mortality  \\\n",
            "0  Afghanistan  2015  Developing              65.0            263.0   \n",
            "1  Afghanistan  2014  Developing              59.9            271.0   \n",
            "2  Afghanistan  2013  Developing              59.9            268.0   \n",
            "\n",
            "   infant deaths  Alcohol  percentage expenditure  Hepatitis B  Measles   ...  \\\n",
            "0             62     0.01               71.279624         65.0      1154  ...   \n",
            "1             64     0.01               73.523582         62.0       492  ...   \n",
            "2             66     0.01               73.219243         64.0       430  ...   \n",
            "\n",
            "   Polio  Total expenditure  Diphtheria    HIV/AIDS         GDP  Population  \\\n",
            "0    6.0               8.16         65.0        0.1  584.259210  33736494.0   \n",
            "1   58.0               8.18         62.0        0.1  612.696514    327582.0   \n",
            "2   62.0               8.13         64.0        0.1  631.744976  31731688.0   \n",
            "\n",
            "    thinness  1-19 years   thinness 5-9 years  \\\n",
            "0                   17.2                 17.3   \n",
            "1                   17.5                 17.5   \n",
            "2                   17.7                 17.7   \n",
            "\n",
            "   Income composition of resources  Schooling  \n",
            "0                            0.479       10.1  \n",
            "1                            0.476       10.0  \n",
            "2                            0.470        9.9  \n",
            "\n",
            "[3 rows x 22 columns]\n",
            "\n",
            "Sample of air quality data:\n",
            "         Date  Country    Status  AQI Value\n",
            "0  2022-07-21  Albania      Good         14\n",
            "1  2022-07-21  Algeria  Moderate         65\n",
            "2  2022-07-21  Andorra  Moderate         55\n",
            "\n",
            "Life expectancy data covers: 2000 to 2015\n",
            "Air quality data covers: 2022 to 2025\n"
          ]
        }
      ],
      "source": [
        "# Display sample data from each dataset\n",
        "print(\"\\nSample of life expectancy data:\")\n",
        "print(life_exp_data.head(3))\n",
        "\n",
        "print(\"\\nSample of air quality data:\")\n",
        "print(air_quality_data.head(3))\n",
        "\n",
        "# Determine the time range of each dataset\n",
        "print(f\"\\nLife expectancy data covers: {min(life_exp_data['Year'])} to {max(life_exp_data['Year'])}\")\n",
        "# Convert dates to extract year information\n",
        "air_quality_data['Date'] = pd.to_datetime(air_quality_data['Date'])\n",
        "air_quality_data['Year'] = air_quality_data['Date'].dt.year\n",
        "print(f\"Air quality data covers: {min(air_quality_data['Year'])} to {max(air_quality_data['Year'])}\")\n"
      ]
    },
    {
      "cell_type": "markdown",
      "id": "ca24a2a7",
      "metadata": {
        "id": "ca24a2a7"
      },
      "source": [
        "Filtering the data for year 2015"
      ]
    },
    {
      "cell_type": "code",
      "execution_count": 6,
      "id": "e60d4522",
      "metadata": {
        "colab": {
          "base_uri": "https://localhost:8080/"
        },
        "id": "e60d4522",
        "outputId": "c7767054-19a3-4765-e827-830293d7ee0d"
      },
      "outputs": [
        {
          "output_type": "stream",
          "name": "stdout",
          "text": [
            "\n",
            "Selected data from 183 countries in 2015 for analysis\n"
          ]
        }
      ],
      "source": [
        "# Data cleaning and preparation\n",
        "# Remove extra spaces from column names\n",
        "life_exp_data.columns = [col.strip() for col in life_exp_data.columns]\n",
        "\n",
        "# Select only the most recent year (2015) for analysis\n",
        "life_exp_2015 = life_exp_data[life_exp_data['Year'] == 2015].copy()\n",
        "print(f\"\\nSelected data from {len(life_exp_2015)} countries in 2015 for analysis\")\n"
      ]
    },
    {
      "cell_type": "markdown",
      "id": "e94a717f",
      "metadata": {
        "id": "e94a717f"
      },
      "source": [
        "Getting Average Air Quality By Countries"
      ]
    },
    {
      "cell_type": "code",
      "execution_count": 7,
      "id": "f8026ef0",
      "metadata": {
        "id": "f8026ef0"
      },
      "outputs": [],
      "source": [
        "# Calculate average AQI for each country\n",
        "country_avg_aqi = air_quality_data.groupby('Country')['AQI Value'].mean().reset_index()\n",
        "country_avg_aqi.rename(columns={'AQI Value': 'Average AQI'}, inplace=True)\n"
      ]
    },
    {
      "cell_type": "markdown",
      "id": "70b858eb",
      "metadata": {
        "id": "70b858eb"
      },
      "source": [
        "Deciding on which status is the most occuring scenario for each country"
      ]
    },
    {
      "cell_type": "code",
      "execution_count": 8,
      "id": "c7ca3c05",
      "metadata": {
        "id": "c7ca3c05"
      },
      "outputs": [],
      "source": [
        "# Determine the most common air quality status for each country\n",
        "country_status = air_quality_data.groupby('Country')['Status'].agg(\n",
        "    lambda x: x.value_counts().index[0]\n",
        ").reset_index()\n",
        "country_status.rename(columns={'Status': 'Predominant Air Quality'}, inplace=True)\n"
      ]
    },
    {
      "cell_type": "markdown",
      "id": "f830eef0",
      "metadata": {
        "id": "f830eef0"
      },
      "source": [
        "Combining Each Air Quality Information"
      ]
    },
    {
      "cell_type": "code",
      "execution_count": 9,
      "id": "ce569377",
      "metadata": {
        "id": "ce569377"
      },
      "outputs": [],
      "source": [
        "# Combine air quality information\n",
        "air_quality_by_country = pd.merge(country_avg_aqi, country_status, on='Country')"
      ]
    },
    {
      "cell_type": "markdown",
      "id": "c482cc7e",
      "metadata": {
        "id": "c482cc7e"
      },
      "source": [
        "Categorizing the AQI Values For Each Country"
      ]
    },
    {
      "cell_type": "code",
      "execution_count": 10,
      "id": "74772547",
      "metadata": {
        "id": "74772547"
      },
      "outputs": [],
      "source": [
        "# Create categorization for AQI values\n",
        "def categorize_aqi(aqi):\n",
        "    if aqi <= 50:\n",
        "        return 'Low Risk'\n",
        "    elif aqi <= 100:\n",
        "        return 'Moderate Risk'\n",
        "    else:\n",
        "        return 'High Risk'\n",
        "\n",
        "air_quality_by_country['AQI Risk Category'] = air_quality_by_country['Average AQI'].apply(categorize_aqi)"
      ]
    },
    {
      "cell_type": "markdown",
      "id": "ec7755da",
      "metadata": {
        "id": "ec7755da"
      },
      "source": [
        "Combining Air Quality and Life Expectancy Datasets All Together"
      ]
    },
    {
      "cell_type": "code",
      "execution_count": 11,
      "id": "498d4d21",
      "metadata": {
        "colab": {
          "base_uri": "https://localhost:8080/"
        },
        "id": "498d4d21",
        "outputId": "2f81095b-12ea-4f88-bfc0-30a0551f3ed6"
      },
      "outputs": [
        {
          "output_type": "stream",
          "name": "stdout",
          "text": [
            "After merging, the dataset contains 108 countries\n"
          ]
        }
      ],
      "source": [
        "# Merge life expectancy and air quality datasets\n",
        "combined_data = pd.merge(life_exp_2015, air_quality_by_country, on='Country', how='inner')\n",
        "print(f\"After merging, the dataset contains {len(combined_data)} countries\")\n"
      ]
    },
    {
      "cell_type": "markdown",
      "id": "fc9e0d00",
      "metadata": {
        "id": "fc9e0d00"
      },
      "source": [
        "Showing a Sample Data From this Combined Set"
      ]
    },
    {
      "cell_type": "code",
      "execution_count": 12,
      "id": "bf1e43a4",
      "metadata": {
        "colab": {
          "base_uri": "https://localhost:8080/"
        },
        "id": "bf1e43a4",
        "outputId": "2862bd42-5a8b-492f-e128-cd65be9ebdc7"
      },
      "outputs": [
        {
          "output_type": "stream",
          "name": "stdout",
          "text": [
            "\n",
            "Sample of merged data:\n",
            "     Country  Life expectancy  Average AQI AQI Risk Category\n",
            "0    Albania             77.8    26.759398          Low Risk\n",
            "1    Algeria             75.6    60.653846     Moderate Risk\n",
            "2     Angola             52.4   109.462366         High Risk\n",
            "3  Argentina             76.3    35.088889          Low Risk\n",
            "4    Armenia             74.8    57.281481     Moderate Risk\n"
          ]
        }
      ],
      "source": [
        "# Display sample of merged data\n",
        "print(\"\\nSample of merged data:\")\n",
        "print(combined_data[['Country', 'Life expectancy', 'Average AQI', 'AQI Risk Category']].head())\n"
      ]
    },
    {
      "cell_type": "markdown",
      "id": "5c5273e5",
      "metadata": {
        "id": "5c5273e5"
      },
      "source": [
        "DATA ENRICHMENT PART"
      ]
    },
    {
      "cell_type": "code",
      "execution_count": 13,
      "id": "cf7b1837",
      "metadata": {
        "colab": {
          "base_uri": "https://localhost:8080/"
        },
        "id": "cf7b1837",
        "outputId": "bff2eb8b-60a8-414a-bb3f-00003fa8e0bb"
      },
      "outputs": [
        {
          "output_type": "stream",
          "name": "stdout",
          "text": [
            "\n",
            "\n",
            "\n",
            "\n",
            "DATA ENRICHMENT WITH ADDITIONAL DATASETS\n",
            "\n",
            "\n",
            "\n",
            "\n"
          ]
        }
      ],
      "source": [
        "print(\"\\n\")\n",
        "print(\"\\n\")\n",
        "print(\"DATA ENRICHMENT WITH ADDITIONAL DATASETS\")\n",
        "print(\"\\n\")\n",
        "print(\"\\n\")\n"
      ]
    },
    {
      "cell_type": "markdown",
      "id": "b0c29b12",
      "metadata": {
        "id": "b0c29b12"
      },
      "source": [
        "CO2 Data Loading"
      ]
    },
    {
      "cell_type": "code",
      "execution_count": 14,
      "id": "16846c1f",
      "metadata": {
        "colab": {
          "base_uri": "https://localhost:8080/"
        },
        "id": "16846c1f",
        "outputId": "98cf995f-2751-4c96-d072-b65a2a54796e"
      },
      "outputs": [
        {
          "output_type": "stream",
          "name": "stdout",
          "text": [
            "Loading CO2 emissions data...\n",
            "Loaded CO2 data: 63104 rows x 11 columns\n",
            "CO2 data for 2015: 232 countries\n"
          ]
        }
      ],
      "source": [
        "# Load CO2 emissions data\n",
        "print(\"Loading CO2 emissions data...\")\n",
        "try:\n",
        "    co2_data = pd.read_csv('GCB2022v27_MtCO2_flat.csv')\n",
        "    print(f\"Loaded CO2 data: {co2_data.shape[0]} rows x {co2_data.shape[1]} columns\")\n",
        "\n",
        "    # Filter for 2015 data and get per capita emissions\n",
        "    co2_2015 = co2_data[co2_data['Year'] == 2015][['Country', 'Per Capita', 'Total']].copy()\n",
        "    co2_2015 = co2_2015.rename(columns={\n",
        "        'Per Capita': 'CO2_Per_Capita',\n",
        "        'Total': 'CO2_Total_Emissions'\n",
        "    })\n",
        "    print(f\"CO2 data for 2015: {len(co2_2015)} countries\")\n",
        "\n",
        "except Exception as e:\n",
        "    print(f\"Could not load CO2 data: {e}\")\n",
        "    # Create sample CO2 data if file not found\n",
        "    co2_2015 = pd.DataFrame({\n",
        "        'Country': combined_data['Country'].tolist(),\n",
        "        'CO2_Per_Capita': np.random.uniform(1, 15, len(combined_data)),\n",
        "        'CO2_Total_Emissions': np.random.uniform(50, 1000, len(combined_data))\n",
        "    })\n",
        "    print(\"Using sample CO2 data for demonstration\")"
      ]
    },
    {
      "cell_type": "markdown",
      "id": "f42aba8f",
      "metadata": {
        "id": "f42aba8f"
      },
      "source": [
        "Loading World Development Indicators"
      ]
    },
    {
      "cell_type": "code",
      "execution_count": 15,
      "id": "79b6066a",
      "metadata": {
        "colab": {
          "base_uri": "https://localhost:8080/"
        },
        "id": "79b6066a",
        "outputId": "27021c7d-1e32-4623-96f2-fa19b7885e74"
      },
      "outputs": [
        {
          "output_type": "stream",
          "name": "stdout",
          "text": [
            "\n",
            "Loading World Development Indicators...\n",
            "Loaded WDI data: 1160 rows x 14 columns\n",
            "Available indicators in WDI data:\n",
            "Total indicators: 56\n",
            "  1. Adolescent fertility rate (births per 1,000 women ages 15-19)\n",
            "  2. Agriculture, forestry, and fishing, value added (% of GDP)\n",
            "  3. Annual freshwater withdrawals, total (% of internal resources)\n",
            "  4. Births attended by skilled health staff (% of total)\n",
            "  5. CO2 emissions (metric tons per capita)\n",
            "  6. Contraceptive prevalence, any methods (% of women ages 15-49)\n",
            "  7. Domestic credit provided by financial sector (% of GDP)\n",
            "  8. Electric power consumption (kWh per capita)\n",
            "  9. Energy use (kg of oil equivalent per capita)\n",
            "  10. Exports of goods and services (% of GDP)\n",
            "\n",
            "Found 28 potentially useful indicators:\n",
            "  - Adolescent fertility rate (births per 1,000 women ages 15-19)\n",
            "  - Agriculture, forestry, and fishing, value added (% of GDP)\n",
            "  - Annual freshwater withdrawals, total (% of internal resources)\n",
            "  - Births attended by skilled health staff (% of total)\n",
            "  - Domestic credit provided by financial sector (% of GDP)\n",
            "  - Electric power consumption (kWh per capita)\n",
            "  - Exports of goods and services (% of GDP)\n",
            "  - Fertility rate, total (births per woman)\n",
            "  - Forest area (sq. km)\n",
            "  - GDP (current US$)\n",
            "Found 28 useful indicators in WDI data\n",
            "WDI data processed: 21 countries\n"
          ]
        }
      ],
      "source": [
        "# Load World Development Indicators\n",
        "print(\"\\nLoading World Development Indicators...\")\n",
        "try:\n",
        "    wdi_data = pd.read_csv('world-development-indicators.csv')\n",
        "    print(f\"Loaded WDI data: {wdi_data.shape[0]} rows x {wdi_data.shape[1]} columns\")\n",
        "\n",
        "    print(\"Available indicators in WDI data:\")\n",
        "    available_series = wdi_data['Series Name'].unique()\n",
        "    print(f\"Total indicators: {len(available_series)}\")\n",
        "\n",
        "    # Show some examples\n",
        "    for i, indicator in enumerate(available_series[:10]):\n",
        "        print(f\"  {i+1}. {indicator}\")\n",
        "\n",
        "    useful_patterns = [\n",
        "        'urban', 'population', 'electric', 'sanitation', 'water',\n",
        "        'literacy', 'forest', 'health', 'expenditure', 'gdp',\n",
        "        'mortality', 'birth', 'death', 'life expectancy'\n",
        "    ]\n",
        "\n",
        "    available_indicators = []\n",
        "    for indicator in available_series:\n",
        "        if not isinstance(indicator, str):\n",
        "            continue\n",
        "        indicator_lower = indicator.lower()\n",
        "        for pattern in useful_patterns:\n",
        "            if pattern in indicator_lower and indicator not in available_indicators:\n",
        "                available_indicators.append(indicator)\n",
        "                break\n",
        "\n",
        "    print(f\"\\nFound {len(available_indicators)} potentially useful indicators:\")\n",
        "    for indicator in available_indicators[:10]:\n",
        "        print(f\"  - {indicator}\")\n",
        "    useful_indicators = available_indicators[:7]  # Take first 7 useful ones\n",
        "\n",
        "    if available_indicators:\n",
        "        print(f\"Found {len(available_indicators)} useful indicators in WDI data\")\n",
        "\n",
        "        # Filter and pivot the data\n",
        "        wdi_filtered = wdi_data[\n",
        "            wdi_data['Series Name'].isin(available_indicators) &\n",
        "            (~wdi_data['2015 [YR2015]'].isna())\n",
        "        ][['Country Name', 'Series Name', '2015 [YR2015]']]\n",
        "\n",
        "        wdi_filtered['2015 [YR2015]'] = pd.to_numeric(wdi_filtered['2015 [YR2015]'], errors='coerce')\n",
        "\n",
        "        # Pivot to get indicators as columns\n",
        "        wdi_pivot = wdi_filtered.pivot(index='Country Name', columns='Series Name', values='2015 [YR2015]').reset_index()\n",
        "        wdi_pivot.columns.name = None\n",
        "        wdi_pivot = wdi_pivot.rename(columns={'Country Name': 'Country'})\n",
        "\n",
        "        column_mapping = {\n",
        "            'Urban population (% of total population)': 'Urban_Population_Pct',\n",
        "            'Access to electricity (% of population)': 'Electricity_Access_Pct',\n",
        "            'Improved sanitation facilities (% of population with access)': 'Sanitation_Access_Pct',\n",
        "            'Improved water source (% of population with access)': 'Water_Access_Pct',\n",
        "            'Literacy rate, adult total (% of people ages 15 and above)': 'Adult_Literacy_Pct',\n",
        "            'Forest area (% of land area)': 'Forest_Area_Pct',\n",
        "            'Health expenditure, total (% of GDP)': 'Health_Expenditure_GDP_Pct'\n",
        "        }\n",
        "\n",
        "        existing_columns = {k: v for k, v in column_mapping.items() if k in wdi_pivot.columns}\n",
        "        wdi_pivot = wdi_pivot.rename(columns=existing_columns)\n",
        "\n",
        "        print(f\"WDI data processed: {wdi_pivot.shape[0]} countries\")\n",
        "    else:\n",
        "        print(\"No useful indicators found in WDI data, creating sample data\")\n",
        "        wdi_pivot = pd.DataFrame({\n",
        "            'Country': combined_data['Country'].tolist(),\n",
        "            'Urban_Population_Pct': np.random.uniform(30, 95, len(combined_data)),\n",
        "            'Forest_Area_Pct': np.random.uniform(5, 70, len(combined_data))\n",
        "        })\n",
        "\n",
        "except Exception as e:\n",
        "    print(f\"Could not load WDI data: {e}\")\n",
        "    # Create minimal sample data\n",
        "    wdi_pivot = pd.DataFrame({\n",
        "        'Country': combined_data['Country'].tolist(),\n",
        "        'Urban_Population_Pct': np.random.uniform(30, 95, len(combined_data)),\n",
        "        'Forest_Area_Pct': np.random.uniform(5, 70, len(combined_data))\n",
        "    })\n",
        "    print(\"Using sample WDI data for demonstration\")"
      ]
    },
    {
      "cell_type": "markdown",
      "id": "4e730486",
      "metadata": {
        "id": "4e730486"
      },
      "source": [
        "Merge Datasets"
      ]
    },
    {
      "cell_type": "code",
      "execution_count": 16,
      "id": "8871f4fd",
      "metadata": {
        "colab": {
          "base_uri": "https://localhost:8080/"
        },
        "id": "8871f4fd",
        "outputId": "3271199d-9d72-4f3f-dcbb-ab83604307a9"
      },
      "outputs": [
        {
          "output_type": "stream",
          "name": "stdout",
          "text": [
            "\n",
            "Merging all datasets...\n"
          ]
        }
      ],
      "source": [
        "print(\"\\nMerging all datasets...\")\n",
        "enriched_data = combined_data.copy()"
      ]
    },
    {
      "cell_type": "markdown",
      "id": "5774210c",
      "metadata": {
        "id": "5774210c"
      },
      "source": [
        "Merge CO2 Dataset"
      ]
    },
    {
      "cell_type": "code",
      "execution_count": 17,
      "id": "6f07de04",
      "metadata": {
        "colab": {
          "base_uri": "https://localhost:8080/"
        },
        "id": "6f07de04",
        "outputId": "d393de3d-62a7-467a-dca7-72f0431da796"
      },
      "outputs": [
        {
          "output_type": "stream",
          "name": "stdout",
          "text": [
            "Successfully merged CO2 data for 106 countries\n"
          ]
        }
      ],
      "source": [
        "# Merge CO2 data\n",
        "enriched_data = pd.merge(enriched_data, co2_2015, on='Country', how='left')\n",
        "co2_merged = enriched_data.dropna(subset=['CO2_Per_Capita']).shape[0]\n",
        "print(f\"Successfully merged CO2 data for {co2_merged} countries\")"
      ]
    },
    {
      "cell_type": "markdown",
      "id": "812b58d2",
      "metadata": {
        "id": "812b58d2"
      },
      "source": [
        "Merge WDI Dataset"
      ]
    },
    {
      "cell_type": "code",
      "execution_count": 18,
      "id": "f1ed4d2a",
      "metadata": {
        "colab": {
          "base_uri": "https://localhost:8080/"
        },
        "id": "f1ed4d2a",
        "outputId": "508a2586-db85-4b0e-f281-dffa62f38448"
      },
      "outputs": [
        {
          "output_type": "stream",
          "name": "stdout",
          "text": [
            "Successfully merged WDI data for 0 countries\n",
            "Final enriched dataset: 108 countries x 55 features\n"
          ]
        }
      ],
      "source": [
        "enriched_data = pd.merge(enriched_data, wdi_pivot, on='Country', how='left')\n",
        "wdi_merged = enriched_data.dropna(subset=['Urban_Population_Pct']).shape[0] if 'Urban_Population_Pct' in enriched_data.columns else 0\n",
        "print(f\"Successfully merged WDI data for {wdi_merged} countries\")\n",
        "\n",
        "print(f\"Final enriched dataset: {enriched_data.shape[0]} countries x {enriched_data.shape[1]} features\")"
      ]
    },
    {
      "cell_type": "markdown",
      "id": "ae2c03ad",
      "metadata": {
        "id": "ae2c03ad"
      },
      "source": [
        "Creating Features"
      ]
    },
    {
      "cell_type": "code",
      "execution_count": 19,
      "id": "dbfd3190",
      "metadata": {
        "colab": {
          "base_uri": "https://localhost:8080/"
        },
        "id": "dbfd3190",
        "outputId": "a633afee-3595-4b5a-a33e-3a2e777b1054"
      },
      "outputs": [
        {
          "output_type": "stream",
          "name": "stdout",
          "text": [
            "\n",
            "\n",
            "\n",
            "\n",
            "CREATING FEATURES\n",
            "\n",
            "\n",
            "\n",
            "\n"
          ]
        }
      ],
      "source": [
        "print(\"\\n\")\n",
        "print(\"\\n\")\n",
        "print(\"CREATING FEATURES\")\n",
        "print(\"\\n\")\n",
        "print(\"\\n\")"
      ]
    },
    {
      "cell_type": "markdown",
      "id": "8979de65",
      "metadata": {
        "id": "8979de65"
      },
      "source": [
        "1- Environmental Impact Score (CO2 and AQI)"
      ]
    },
    {
      "cell_type": "code",
      "execution_count": 20,
      "id": "42f4cf13",
      "metadata": {
        "id": "42f4cf13"
      },
      "outputs": [],
      "source": [
        "# Feature 1: Environmental Impact Score (combine CO2 and AQI)\n",
        "enriched_data['Environmental_Impact_Score'] = (\n",
        "    enriched_data['CO2_Per_Capita'].fillna(enriched_data['CO2_Per_Capita'].mean()) * 0.6 +\n",
        "    enriched_data['Average AQI'] * 0.4\n",
        ")"
      ]
    },
    {
      "cell_type": "markdown",
      "id": "05d7169e",
      "metadata": {
        "id": "05d7169e"
      },
      "source": [
        "2- Health Investment Index"
      ]
    },
    {
      "cell_type": "code",
      "execution_count": 21,
      "id": "cd450df3",
      "metadata": {
        "id": "cd450df3"
      },
      "outputs": [],
      "source": [
        "# Feature 2: Health Investment Index (combine health spending indicators)\n",
        "enriched_data['Health_Investment_Index'] = (\n",
        "    enriched_data['Total expenditure'].fillna(enriched_data['Total expenditure'].mean()) * 0.7 +\n",
        "    enriched_data['GDP'] / 10000 * 0.3  # Normalize GDP contribution\n",
        ")"
      ]
    },
    {
      "cell_type": "markdown",
      "id": "cf73e686",
      "metadata": {
        "id": "cf73e686"
      },
      "source": [
        "3- Basic Access Services"
      ]
    },
    {
      "cell_type": "code",
      "execution_count": 22,
      "id": "e3c22a31",
      "metadata": {
        "id": "e3c22a31"
      },
      "outputs": [],
      "source": [
        "# Feature 3: Basic Services Access (combine water, sanitation, electricity if available)\n",
        "if 'Water_Access_Pct' in enriched_data.columns:\n",
        "    enriched_data['Basic_Services_Access'] = (\n",
        "        enriched_data['Water_Access_Pct'].fillna(80) * 0.4 +\n",
        "        enriched_data.get('Sanitation_Access_Pct', pd.Series([75]*len(enriched_data))).fillna(75) * 0.3 +\n",
        "        enriched_data.get('Electricity_Access_Pct', pd.Series([85]*len(enriched_data))).fillna(85) * 0.3\n",
        "    )\n",
        "else:\n",
        "    # Create based on development status if WDI data not available\n",
        "    enriched_data['Basic_Services_Access'] = np.where(\n",
        "        enriched_data['Status'] == 'Developed', 95, 70\n",
        "    ) + np.random.uniform(-10, 10, len(enriched_data))"
      ]
    },
    {
      "cell_type": "markdown",
      "id": "e0ba3af6",
      "metadata": {
        "id": "e0ba3af6"
      },
      "source": [
        "4- Development Score"
      ]
    },
    {
      "cell_type": "code",
      "execution_count": 23,
      "id": "1160e849",
      "metadata": {
        "id": "1160e849"
      },
      "outputs": [],
      "source": [
        "# Feature 4: Development Score (combine multiple development indicators)\n",
        "enriched_data['Development_Score'] = (\n",
        "    (enriched_data['GDP'] / enriched_data['GDP'].max() * 100) * 0.3 +  # Normalized GDP\n",
        "    enriched_data['Schooling'].fillna(enriched_data['Schooling'].mean()) * 0.4 +\n",
        "    enriched_data.get('Urban_Population_Pct', pd.Series([60]*len(enriched_data))).fillna(60) * 0.3\n",
        ")"
      ]
    },
    {
      "cell_type": "markdown",
      "id": "51bb6fc2",
      "metadata": {
        "id": "51bb6fc2"
      },
      "source": [
        "5- Health Risk Factor"
      ]
    },
    {
      "cell_type": "code",
      "execution_count": 24,
      "id": "d6e875cd",
      "metadata": {
        "id": "d6e875cd"
      },
      "outputs": [],
      "source": [
        "# Feature 5: Health Risk Factor (combine mortality and environmental risks)\n",
        "enriched_data['Health_Risk_Factor'] = (\n",
        "    enriched_data['Adult Mortality'] * 0.4 +\n",
        "    enriched_data['Environmental_Impact_Score'] * 0.3 +\n",
        "    (100 - enriched_data['Basic_Services_Access']) * 0.3  # Higher risk when less access\n",
        ")"
      ]
    },
    {
      "cell_type": "code",
      "execution_count": 25,
      "id": "3e1c64f2",
      "metadata": {
        "colab": {
          "base_uri": "https://localhost:8080/"
        },
        "id": "3e1c64f2",
        "outputId": "677c62b3-cd98-4289-fe2b-338d8d793518"
      },
      "outputs": [
        {
          "output_type": "stream",
          "name": "stdout",
          "text": [
            "Created 5 new engineered features:\n",
            "1. Environmental_Impact_Score - Combined CO2 and air quality impact\n",
            "2. Health_Investment_Index - Healthcare spending and economic capacity\n",
            "3. Basic_Services_Access - Access to basic infrastructure\n",
            "4. Development_Score - Overall country development level\n",
            "5. Health_Risk_Factor - Combined health and environmental risks\n"
          ]
        }
      ],
      "source": [
        "print(\"Created 5 new engineered features:\")\n",
        "print(\"1. Environmental_Impact_Score - Combined CO2 and air quality impact\")\n",
        "print(\"2. Health_Investment_Index - Healthcare spending and economic capacity\")\n",
        "print(\"3. Basic_Services_Access - Access to basic infrastructure\")\n",
        "print(\"4. Development_Score - Overall country development level\")\n",
        "print(\"5. Health_Risk_Factor - Combined health and environmental risks\")"
      ]
    },
    {
      "cell_type": "markdown",
      "id": "221d95e3",
      "metadata": {
        "id": "221d95e3"
      },
      "source": [
        "CORRELATIONS WITH LIFE EXPECTANCY PART"
      ]
    },
    {
      "cell_type": "code",
      "execution_count": 26,
      "id": "567c9eac",
      "metadata": {
        "colab": {
          "base_uri": "https://localhost:8080/"
        },
        "id": "567c9eac",
        "outputId": "09ada06c-ba5f-478a-dc41-549aa7ed7923"
      },
      "outputs": [
        {
          "output_type": "stream",
          "name": "stdout",
          "text": [
            "\n",
            "========================================\n",
            "CORRELATION WITH LIFE EXPECTANCY\n",
            "========================================\n"
          ]
        }
      ],
      "source": [
        "# Show correlations with life expectancy\n",
        "print(\"\\n\" + \"=\" * 40)\n",
        "print(\"CORRELATION WITH LIFE EXPECTANCY\")\n",
        "print(\"=\" * 40)"
      ]
    },
    {
      "cell_type": "code",
      "execution_count": 27,
      "id": "d1fb5763",
      "metadata": {
        "colab": {
          "base_uri": "https://localhost:8080/"
        },
        "id": "d1fb5763",
        "outputId": "5f2ab3a5-bb89-4ceb-fed6-dc969a128222"
      },
      "outputs": [
        {
          "output_type": "stream",
          "name": "stdout",
          "text": [
            "Environmental_Impact_Score: -0.199\n",
            "Health_Investment_Index: 0.419\n",
            "Basic_Services_Access: 0.469\n",
            "Development_Score: 0.524\n",
            "Health_Risk_Factor: -0.819\n",
            "\n",
            "Data enrichment completed! Dataset now has 60 features.\n",
            "============================================================\n"
          ]
        }
      ],
      "source": [
        "new_features = ['Environmental_Impact_Score', 'Health_Investment_Index', 'Basic_Services_Access',\n",
        "                'Development_Score', 'Health_Risk_Factor']\n",
        "\n",
        "correlations = []\n",
        "for feature in new_features:\n",
        "    corr = enriched_data['Life expectancy'].corr(enriched_data[feature])\n",
        "    correlations.append((feature, corr))\n",
        "    print(f\"{feature}: {corr:.3f}\")\n",
        "\n",
        "# Update combined_data for the rest of the analysis\n",
        "combined_data = enriched_data.copy()\n",
        "\n",
        "print(f\"\\nData enrichment completed! Dataset now has {combined_data.shape[1]} features.\")\n",
        "print(\"=\" * 60)"
      ]
    },
    {
      "cell_type": "markdown",
      "id": "970ffa85",
      "metadata": {
        "id": "970ffa85"
      },
      "source": [
        "Exploratory Data Analysis"
      ]
    },
    {
      "cell_type": "code",
      "execution_count": 28,
      "id": "d513d5ec",
      "metadata": {
        "colab": {
          "base_uri": "https://localhost:8080/"
        },
        "id": "d513d5ec",
        "outputId": "9b6e7bc8-07a8-47d7-a029-511688e4dc70"
      },
      "outputs": [
        {
          "output_type": "stream",
          "name": "stdout",
          "text": [
            "\n",
            "Correlation between Life Expectancy and Average AQI: -0.3097\n",
            "(A negative correlation indicates countries with worse air quality tend to have lower life expectancy)\n"
          ]
        }
      ],
      "source": [
        "# Calculate correlation between AQI and life expectancy\n",
        "correlation = combined_data['Life expectancy'].corr(combined_data['Average AQI'])\n",
        "print(f\"\\nCorrelation between Life Expectancy and Average AQI: {correlation:.4f}\")\n",
        "print(\"(A negative correlation indicates countries with worse air quality tend to have lower life expectancy)\")"
      ]
    },
    {
      "cell_type": "markdown",
      "id": "95b2a5f8",
      "metadata": {
        "id": "95b2a5f8"
      },
      "source": [
        "Average Life Expectancy by AQI Risk Category"
      ]
    },
    {
      "cell_type": "code",
      "execution_count": 29,
      "id": "233444c2",
      "metadata": {
        "colab": {
          "base_uri": "https://localhost:8080/"
        },
        "id": "233444c2",
        "outputId": "e80aafcc-fca5-4e57-8dd1-51382694bf6b"
      },
      "outputs": [
        {
          "output_type": "stream",
          "name": "stdout",
          "text": [
            "\n",
            "Average life expectancy by AQI risk category:\n",
            "- Low Risk: 76.94 years\n",
            "- Moderate Risk: 73.15 years\n",
            "- High Risk: 70.31 years\n"
          ]
        }
      ],
      "source": [
        "# Calculate average life expectancy by AQI risk category\n",
        "print(\"\\nAverage life expectancy by AQI risk category:\")\n",
        "for category in ['Low Risk', 'Moderate Risk', 'High Risk']:\n",
        "    avg = combined_data[combined_data['AQI Risk Category'] == category]['Life expectancy'].mean()\n",
        "    print(f\"- {category}: {avg:.2f} years\")"
      ]
    },
    {
      "cell_type": "markdown",
      "id": "1a1c752b",
      "metadata": {
        "id": "1a1c752b"
      },
      "source": [
        "Development Status Based Life Expectancy Mean"
      ]
    },
    {
      "cell_type": "code",
      "execution_count": 30,
      "id": "a89b0009",
      "metadata": {
        "colab": {
          "base_uri": "https://localhost:8080/"
        },
        "id": "a89b0009",
        "outputId": "ef9277d7-e01e-4ac3-e331-1d2b5e7a2147"
      },
      "outputs": [
        {
          "output_type": "stream",
          "name": "stdout",
          "text": [
            "\n",
            "Average life expectancy by development status:\n",
            "- Developed: 80.77 years\n",
            "- Developing: 71.16 years\n"
          ]
        }
      ],
      "source": [
        "# Calculate average life expectancy by development status\n",
        "print(\"\\nAverage life expectancy by development status:\")\n",
        "for status in ['Developed', 'Developing']:\n",
        "    avg = combined_data[combined_data['Status'] == status]['Life expectancy'].mean()\n",
        "    print(f\"- {status}: {avg:.2f} years\")"
      ]
    },
    {
      "cell_type": "markdown",
      "id": "6922f8ee",
      "metadata": {
        "id": "6922f8ee"
      },
      "source": [
        "Identify 5 min max Countries"
      ]
    },
    {
      "cell_type": "code",
      "execution_count": 31,
      "id": "de99bdf9",
      "metadata": {
        "colab": {
          "base_uri": "https://localhost:8080/"
        },
        "id": "de99bdf9",
        "outputId": "17076f78-7cd2-45b7-b562-e6923526b877"
      },
      "outputs": [
        {
          "output_type": "stream",
          "name": "stdout",
          "text": [
            "\n",
            "Top 5 countries with highest life expectancy:\n",
            "- Slovenia: 88.0 years (AQI: 42.7)\n",
            "- Denmark: 86.0 years (AQI: 20.9)\n",
            "- Chile: 85.0 years (AQI: 115.0)\n",
            "- Cyprus: 85.0 years (AQI: 55.3)\n",
            "- Japan: 83.7 years (AQI: 78.9)\n",
            "\n",
            "Bottom 5 countries with lowest life expectancy:\n",
            "- Angola: 52.4 years (AQI: 109.5)\n",
            "- Central African Republic: 52.5 years (AQI: 110.0)\n",
            "- Chad: 53.1 years (AQI: 90.5)\n",
            "- Nigeria: 54.5 years (AQI: 95.2)\n",
            "- Burkina Faso: 59.9 years (AQI: 92.2)\n"
          ]
        }
      ],
      "source": [
        "# Identify countries with highest and lowest life expectancy\n",
        "top_countries = combined_data.nlargest(5, 'Life expectancy')\n",
        "bottom_countries = combined_data.nsmallest(5, 'Life expectancy')\n",
        "\n",
        "print(\"\\nTop 5 countries with highest life expectancy:\")\n",
        "for i, row in top_countries.iterrows():\n",
        "    print(f\"- {row['Country']}: {row['Life expectancy']:.1f} years (AQI: {row['Average AQI']:.1f})\")\n",
        "\n",
        "print(\"\\nBottom 5 countries with lowest life expectancy:\")\n",
        "for i, row in bottom_countries.iterrows():\n",
        "    print(f\"- {row['Country']}: {row['Life expectancy']:.1f} years (AQI: {row['Average AQI']:.1f})\")"
      ]
    },
    {
      "cell_type": "markdown",
      "id": "6f079765",
      "metadata": {
        "id": "6f079765"
      },
      "source": [
        "Data Visualization"
      ]
    },
    {
      "cell_type": "markdown",
      "id": "04399dce",
      "metadata": {
        "id": "04399dce"
      },
      "source": [
        "1- Scatter Plot"
      ]
    },
    {
      "cell_type": "code",
      "execution_count": 32,
      "id": "f32b6244",
      "metadata": {
        "id": "f32b6244"
      },
      "outputs": [],
      "source": [
        "# 1. Scatter plot: Life Expectancy vs AQI\n",
        "plt.figure(figsize=(10, 6))\n",
        "plt.scatter(combined_data['Average AQI'], combined_data['Life expectancy'], color='blue', alpha=0.7)\n",
        "\n",
        "# Add trend line\n",
        "z = np.polyfit(combined_data['Average AQI'], combined_data['Life expectancy'], 1)\n",
        "p = np.poly1d(z)\n",
        "plt.plot(combined_data['Average AQI'], p(combined_data['Average AQI']), \"r--\", alpha=0.7)\n",
        "\n",
        "plt.title('Life Expectancy vs. Air Quality Index')\n",
        "plt.xlabel('Average Air Quality Index (Higher = More Pollution)')\n",
        "plt.ylabel('Life Expectancy (Years)')\n",
        "plt.grid(True, alpha=0.3)\n",
        "plt.savefig('images/life_expectancy_vs_aqi.png')\n",
        "plt.close()"
      ]
    },
    {
      "cell_type": "markdown",
      "id": "f900293f",
      "metadata": {
        "id": "f900293f"
      },
      "source": [
        "2- Bar Chart"
      ]
    },
    {
      "cell_type": "code",
      "execution_count": 33,
      "id": "5ebb3b0d",
      "metadata": {
        "id": "5ebb3b0d"
      },
      "outputs": [],
      "source": [
        "# 2. Bar chart: Life expectancy by AQI risk category\n",
        "plt.figure(figsize=(10, 6))\n",
        "aqi_categories = ['Low Risk', 'Moderate Risk', 'High Risk']\n",
        "life_exp_by_risk = []\n",
        "\n",
        "for cat in aqi_categories:\n",
        "    avg = combined_data[combined_data['AQI Risk Category'] == cat]['Life expectancy'].mean()\n",
        "    life_exp_by_risk.append(avg)\n",
        "    # Add value labels on bars\n",
        "    plt.text(aqi_categories.index(cat), avg + 0.5, f\"{avg:.1f}\", ha='center')\n",
        "\n",
        "plt.bar(aqi_categories, life_exp_by_risk, color='lightblue')\n",
        "plt.title('Average Life Expectancy by Air Quality Risk Category')\n",
        "plt.xlabel('Air Quality Risk Category')\n",
        "plt.ylabel('Average Life Expectancy (Years)')\n",
        "plt.grid(axis='y', alpha=0.3)\n",
        "plt.savefig('images/life_expectancy_by_risk.png')\n",
        "plt.close()"
      ]
    },
    {
      "cell_type": "markdown",
      "id": "cafde33b",
      "metadata": {
        "id": "cafde33b"
      },
      "source": [
        "3- Box Plot"
      ]
    },
    {
      "cell_type": "code",
      "execution_count": 34,
      "id": "f6be8ec2",
      "metadata": {
        "id": "f6be8ec2"
      },
      "outputs": [],
      "source": [
        "# 3. Box plot: Life expectancy by development status\n",
        "plt.figure(figsize=(8, 6))\n",
        "sns.boxplot(x='Status', y='Life expectancy', data=combined_data, color='lightblue')\n",
        "plt.title('Life Expectancy by Development Status')\n",
        "plt.grid(axis='y', alpha=0.3)\n",
        "plt.savefig('images/life_expectancy_by_status.png')\n",
        "plt.close()"
      ]
    },
    {
      "cell_type": "markdown",
      "id": "ac283c6b",
      "metadata": {
        "id": "ac283c6b"
      },
      "source": [
        "4- Another Bar Chart"
      ]
    },
    {
      "cell_type": "code",
      "execution_count": 35,
      "id": "2e2dd161",
      "metadata": {
        "id": "2e2dd161"
      },
      "outputs": [],
      "source": [
        "# 4. Bar chart for top and bottom countries\n",
        "plt.figure(figsize=(12, 8))\n",
        "countries = pd.concat([top_countries, bottom_countries])\n",
        "countries = countries.sort_values('Life expectancy')\n",
        "\n",
        "plt.barh(countries['Country'], countries['Life expectancy'], color='lightblue')\n",
        "plt.xlabel('Life Expectancy (Years)')\n",
        "plt.title('Countries with Highest and Lowest Life Expectancy')\n",
        "plt.grid(axis='x', alpha=0.3)\n",
        "\n",
        "# Add AQI values as text\n",
        "for i, (_, row) in enumerate(countries.iterrows()):\n",
        "    plt.text(row['Life expectancy'] + 0.5, i, f\"AQI: {row['Average AQI']:.1f}\")\n",
        "\n",
        "plt.tight_layout()\n",
        "plt.savefig('images/top_bottom_countries.png')\n",
        "plt.close()"
      ]
    },
    {
      "cell_type": "markdown",
      "id": "4b2f1752",
      "metadata": {
        "id": "4b2f1752"
      },
      "source": [
        "5- Correlation Heatmap"
      ]
    },
    {
      "cell_type": "code",
      "execution_count": 36,
      "id": "8a0ea7f6",
      "metadata": {
        "id": "8a0ea7f6"
      },
      "outputs": [],
      "source": [
        "# 5. Correlation heatmap with new features\n",
        "plt.figure(figsize=(12, 10))\n",
        "important_columns = ['Life expectancy', 'Average AQI', 'Adult Mortality', 'GDP', 'Schooling',\n",
        "                    'Environmental_Impact_Score', 'Health_Investment_Index', 'Development_Score']\n",
        "valid_columns = [col for col in important_columns if col in combined_data.columns]\n",
        "correlation_matrix = combined_data[valid_columns].corr()\n",
        "sns.heatmap(correlation_matrix, annot=True, cmap='Blues', fmt='.3f')\n",
        "plt.title('Correlation Matrix with New Features')\n",
        "plt.tight_layout()\n",
        "plt.savefig('images/correlation_heatmap.png')\n",
        "plt.close()"
      ]
    },
    {
      "cell_type": "markdown",
      "id": "c07b9dec",
      "metadata": {
        "id": "c07b9dec"
      },
      "source": [
        "6- Another Plot for Environmental Impact vs Life Expectancy"
      ]
    },
    {
      "cell_type": "code",
      "execution_count": 37,
      "id": "9968fc75",
      "metadata": {
        "id": "9968fc75"
      },
      "outputs": [],
      "source": [
        "# 6. New visualization: Environmental Impact vs Life Expectancy\n",
        "plt.figure(figsize=(10, 6))\n",
        "plt.scatter(combined_data['Environmental_Impact_Score'], combined_data['Life expectancy'],\n",
        "           color='green', alpha=0.7)\n",
        "plt.title('Life Expectancy vs Environmental Impact Score')\n",
        "plt.xlabel('Environmental Impact Score (Higher = More Environmental Damage)')\n",
        "plt.ylabel('Life Expectancy (Years)')\n",
        "plt.grid(True, alpha=0.3)\n",
        "\n",
        "# Add trend line\n",
        "z = np.polyfit(combined_data['Environmental_Impact_Score'], combined_data['Life expectancy'], 1)\n",
        "p = np.poly1d(z)\n",
        "plt.plot(combined_data['Environmental_Impact_Score'], p(combined_data['Environmental_Impact_Score']), \"r--\", alpha=0.7)\n",
        "plt.savefig('images/environmental_impact_vs_life_expectancy.png')\n",
        "plt.close()"
      ]
    },
    {
      "cell_type": "markdown",
      "id": "31976b40",
      "metadata": {
        "id": "31976b40"
      },
      "source": [
        "STATISTICAL ANALYSIS"
      ]
    },
    {
      "cell_type": "markdown",
      "id": "75ac69d2",
      "metadata": {
        "id": "75ac69d2"
      },
      "source": [
        "Test 1 - Difference between low and high risk countries"
      ]
    },
    {
      "cell_type": "code",
      "execution_count": 38,
      "id": "0e8bdb9d",
      "metadata": {
        "colab": {
          "base_uri": "https://localhost:8080/"
        },
        "id": "0e8bdb9d",
        "outputId": "9426057a-d951-4f9d-dabe-09bf952b2254"
      },
      "outputs": [
        {
          "output_type": "stream",
          "name": "stdout",
          "text": [
            "\n",
            "Comparison between low-risk and high-risk countries:\n",
            "Low-risk average: 76.94 years\n",
            "High-risk average: 70.31 years\n",
            "Difference: 6.63 years\n",
            "p-value: 0.0068\n",
            "This difference is statistically significant\n"
          ]
        }
      ],
      "source": [
        "low_risk = combined_data[combined_data['AQI Risk Category'] == 'Low Risk']['Life expectancy']\n",
        "high_risk = combined_data[combined_data['AQI Risk Category'] == 'High Risk']['Life expectancy']\n",
        "\n",
        "print(\"\\nComparison between low-risk and high-risk countries:\")\n",
        "print(f\"Low-risk average: {low_risk.mean():.2f} years\")\n",
        "print(f\"High-risk average: {high_risk.mean():.2f} years\")\n",
        "print(f\"Difference: {low_risk.mean() - high_risk.mean():.2f} years\")\n",
        "\n",
        "t_stat, p_value = stats.ttest_ind(low_risk, high_risk, equal_var=False)\n",
        "print(f\"p-value: {p_value:.4f}\")\n",
        "print(\"This difference is statistically significant\" if p_value < 0.05 else \"This difference is not statistically significant\")"
      ]
    },
    {
      "cell_type": "markdown",
      "id": "4319d302",
      "metadata": {
        "id": "4319d302"
      },
      "source": [
        "Test 2: Difference between developed and developing countries"
      ]
    },
    {
      "cell_type": "code",
      "execution_count": 39,
      "id": "849f887d",
      "metadata": {
        "colab": {
          "base_uri": "https://localhost:8080/"
        },
        "id": "849f887d",
        "outputId": "4ebc7747-f67d-4e70-dc27-0beca765dffc"
      },
      "outputs": [
        {
          "output_type": "stream",
          "name": "stdout",
          "text": [
            "\n",
            "Comparison between developed and developing countries:\n",
            "Developed average: 80.77 years\n",
            "Developing average: 71.16 years\n",
            "Difference: 9.61 years\n",
            "p-value: 0.0000\n",
            "This difference is statistically significant\n"
          ]
        }
      ],
      "source": [
        "developed = combined_data[combined_data['Status'] == 'Developed']['Life expectancy']\n",
        "developing = combined_data[combined_data['Status'] == 'Developing']['Life expectancy']\n",
        "\n",
        "print(\"\\nComparison between developed and developing countries:\")\n",
        "print(f\"Developed average: {developed.mean():.2f} years\")\n",
        "print(f\"Developing average: {developing.mean():.2f} years\")\n",
        "print(f\"Difference: {developed.mean() - developing.mean():.2f} years\")\n",
        "\n",
        "t_stat, p_value = stats.ttest_ind(developed, developing, equal_var=False)\n",
        "print(f\"p-value: {p_value:.4f}\")\n",
        "print(\"This difference is statistically significant\" if p_value < 0.05 else \"This difference is not statistically significant\")"
      ]
    },
    {
      "cell_type": "markdown",
      "id": "2bbbc138",
      "metadata": {
        "id": "2bbbc138"
      },
      "source": [
        "Test 3- Correlation Significance"
      ]
    },
    {
      "cell_type": "code",
      "execution_count": 40,
      "id": "fd0839c4",
      "metadata": {
        "colab": {
          "base_uri": "https://localhost:8080/"
        },
        "id": "fd0839c4",
        "outputId": "40aea253-e4d4-4e0f-94a3-a6eb8be612ef"
      },
      "outputs": [
        {
          "output_type": "stream",
          "name": "stdout",
          "text": [
            "\n",
            "Correlation significance test:\n",
            "Correlation: -0.3097, p-value: 0.0011\n",
            "This correlation is statistically significant\n",
            "\n",
            "Visualization files have been saved to the 'images' folder\n"
          ]
        }
      ],
      "source": [
        "correlation, p_value = stats.pearsonr(combined_data['Life expectancy'], combined_data['Average AQI'])\n",
        "print(f\"\\nCorrelation significance test:\")\n",
        "print(f\"Correlation: {correlation:.4f}, p-value: {p_value:.4f}\")\n",
        "print(\"This correlation is statistically significant\" if p_value < 0.05 else \"This correlation is not statistically significant\")\n",
        "\n",
        "print(\"\\nVisualization files have been saved to the 'images' folder\")"
      ]
    },
    {
      "cell_type": "markdown",
      "id": "44eafc1d",
      "metadata": {
        "id": "44eafc1d"
      },
      "source": [
        "ML PART - PREDICTING LIFE EXPECTANCY"
      ]
    },
    {
      "cell_type": "code",
      "execution_count": 41,
      "id": "8d69125d",
      "metadata": {
        "colab": {
          "base_uri": "https://localhost:8080/"
        },
        "id": "8d69125d",
        "outputId": "ff5260dc-2755-4ba9-ce78-f73eb5fd1bcc"
      },
      "outputs": [
        {
          "output_type": "stream",
          "name": "stdout",
          "text": [
            "\n",
            "\n",
            "\n",
            "\n",
            "MACHINE LEARNING ANALYSIS\n",
            "\n",
            "\n",
            "\n",
            "\n"
          ]
        }
      ],
      "source": [
        "print(\"\\n\")\n",
        "print(\"\\n\")\n",
        "print(\"MACHINE LEARNING ANALYSIS\")\n",
        "print(\"\\n\")\n",
        "print(\"\\n\")"
      ]
    },
    {
      "cell_type": "markdown",
      "id": "60509008",
      "metadata": {
        "id": "60509008"
      },
      "source": [
        "STEP 1 - Checking if any Missing Values Exist as a Precaution"
      ]
    },
    {
      "cell_type": "code",
      "execution_count": 42,
      "id": "4d3c6dc4",
      "metadata": {
        "colab": {
          "base_uri": "https://localhost:8080/"
        },
        "id": "4d3c6dc4",
        "outputId": "ea99680d-5a85-4ca2-a787-5f9bea91d94e"
      },
      "outputs": [
        {
          "output_type": "stream",
          "name": "stdout",
          "text": [
            "\n",
            "Checking for missing values in  features:\n",
            "Life expectancy               0\n",
            "Average AQI                   0\n",
            "Adult Mortality               0\n",
            "GDP                           6\n",
            "Schooling                     2\n",
            "Environmental_Impact_Score    0\n",
            "Health_Investment_Index       6\n",
            "Development_Score             6\n",
            "Health_Risk_Factor            0\n",
            "Basic_Services_Access         0\n",
            "dtype: int64\n",
            "- Filled missing values in GDP with the average: 9056.73\n",
            "- Filled missing values in Schooling with the average: 13.78\n",
            "- Filled missing values in Health_Investment_Index with the average: 4.47\n",
            "- Filled missing values in Development_Score with the average: 27.63\n",
            "\n",
            "Analyzing feature correlations to remove redundancy...\n",
            "\n",
            "Found highly correlated feature pairs:\n",
            "  Average AQI ↔ Environmental_Impact_Score: 0.968\n",
            "  Adult Mortality ↔ Health_Risk_Factor: 0.983\n",
            "  GDP ↔ Health_Investment_Index: 1.000\n",
            "  GDP ↔ Development_Score: 0.988\n",
            "  Health_Investment_Index ↔ Development_Score: 0.988\n",
            "\n",
            "Using features (removed redundant ones): ['Adult Mortality', 'Schooling', 'Is_Developed', 'Health_Risk_Factor', 'Basic_Services_Access']\n",
            "\n",
            "Using features for prediction: ['Adult Mortality', 'Schooling', 'Is_Developed', 'Health_Risk_Factor', 'Basic_Services_Access']\n"
          ]
        },
        {
          "output_type": "stream",
          "name": "stderr",
          "text": [
            "<ipython-input-42-a9879d54eca0>:13: FutureWarning: A value is trying to be set on a copy of a DataFrame or Series through chained assignment using an inplace method.\n",
            "The behavior will change in pandas 3.0. This inplace method will never work because the intermediate object on which we are setting values always behaves as a copy.\n",
            "\n",
            "For example, when doing 'df[col].method(value, inplace=True)', try using 'df.method({col: value}, inplace=True)' or df[col] = df[col].method(value) instead, to perform the operation inplace on the original object.\n",
            "\n",
            "\n",
            "  combined_data[column].fillna(avg_value, inplace=True)\n"
          ]
        }
      ],
      "source": [
        "# Check for missing values in features\n",
        "print(\"\\nChecking for missing values in  features:\")\n",
        "enhanced_columns = ['Life expectancy', 'Average AQI', 'Adult Mortality', 'GDP', 'Schooling',\n",
        "                   'Environmental_Impact_Score', 'Health_Investment_Index', 'Development_Score',\n",
        "                   'Health_Risk_Factor', 'Basic_Services_Access']\n",
        "available_columns = [col for col in enhanced_columns if col in combined_data.columns]\n",
        "print(combined_data[available_columns].isnull().sum())\n",
        "\n",
        "# Fill missing values\n",
        "for column in available_columns:\n",
        "    if combined_data[column].isnull().sum() > 0:\n",
        "        avg_value = combined_data[column].mean()\n",
        "        combined_data[column].fillna(avg_value, inplace=True)\n",
        "        print(f\"- Filled missing values in {column} with the average: {avg_value:.2f}\")\n",
        "\n",
        "# Prepare features for ML\n",
        "combined_data['Is_Developed'] = (combined_data['Status'] == 'Developed').astype(int)\n",
        "\n",
        "#Reduncancy check\n",
        "print(\"\\nAnalyzing feature correlations to remove redundancy...\")\n",
        "\n",
        "feature_candidates = ['Average AQI', 'Adult Mortality', 'GDP', 'Schooling', 'Is_Developed',\n",
        "                     'Environmental_Impact_Score', 'Health_Investment_Index', 'Development_Score', 'Health_Risk_Factor']\n",
        "\n",
        "feature_corr = combined_data[feature_candidates].corr()\n",
        "\n",
        "redundant_features = []\n",
        "for i in range(len(feature_corr.columns)):\n",
        "    for j in range(i+1, len(feature_corr.columns)):\n",
        "        if abs(feature_corr.iloc[i, j]) > 0.8:\n",
        "            redundant_features.append((feature_corr.columns[i], feature_corr.columns[j], feature_corr.iloc[i, j]))\n",
        "\n",
        "if redundant_features:\n",
        "    print(\"\\nFound highly correlated feature pairs:\")\n",
        "    for feat1, feat2, corr in redundant_features:\n",
        "        print(f\"  {feat1} ↔ {feat2}: {corr:.3f}\")\n",
        "\n",
        "enhanced_features = [\n",
        "    'Adult Mortality', 'Schooling', 'Is_Developed',\n",
        "    'Health_Risk_Factor',\n",
        "    'Basic_Services_Access',\n",
        "]\n",
        "\n",
        "print(f\"\\nUsing features (removed redundant ones): {enhanced_features}\")\n",
        "\n",
        "features = [f for f in enhanced_features if f in combined_data.columns]\n",
        "print(f\"\\nUsing features for prediction: {features}\")"
      ]
    },
    {
      "cell_type": "markdown",
      "id": "ba816977",
      "metadata": {
        "id": "ba816977"
      },
      "source": [
        "STEP 2 - Preparing Data"
      ]
    },
    {
      "cell_type": "code",
      "execution_count": 43,
      "id": "91bb3e71",
      "metadata": {
        "id": "91bb3e71"
      },
      "outputs": [],
      "source": [
        "# Prepare data\n",
        "X = combined_data[features]\n",
        "y = combined_data['Life expectancy']"
      ]
    },
    {
      "cell_type": "markdown",
      "id": "8b5b48a8",
      "metadata": {
        "id": "8b5b48a8"
      },
      "source": [
        "STEP 3 - Seperate the data for Test and Training"
      ]
    },
    {
      "cell_type": "code",
      "execution_count": 44,
      "id": "7260c426",
      "metadata": {
        "colab": {
          "base_uri": "https://localhost:8080/"
        },
        "id": "7260c426",
        "outputId": "cf2c2287-1e9b-46db-c8d5-c364dc193698"
      },
      "outputs": [
        {
          "output_type": "stream",
          "name": "stdout",
          "text": [
            "\n",
            "Split data: 86 training, 22 testing countries\n"
          ]
        }
      ],
      "source": [
        "# Split data\n",
        "X_train, X_test, y_train, y_test = train_test_split(X, y, test_size=0.2, random_state=42)\n",
        "print(f\"\\nSplit data: {len(X_train)} training, {len(X_test)} testing countries\")"
      ]
    },
    {
      "cell_type": "markdown",
      "id": "177e9ebd",
      "metadata": {
        "id": "177e9ebd"
      },
      "source": [
        "STEP 4 - Train Linear Regression Model"
      ]
    },
    {
      "cell_type": "code",
      "execution_count": 45,
      "id": "7a03fc3f",
      "metadata": {
        "colab": {
          "base_uri": "https://localhost:8080/",
          "height": 111
        },
        "id": "7a03fc3f",
        "outputId": "33beff0d-d117-4383-ab57-822f943ffae5"
      },
      "outputs": [
        {
          "output_type": "stream",
          "name": "stdout",
          "text": [
            "\n",
            "Training linear regression model...\n"
          ]
        },
        {
          "output_type": "execute_result",
          "data": {
            "text/plain": [
              "LinearRegression()"
            ],
            "text/html": [
              "<style>#sk-container-id-1 {\n",
              "  /* Definition of color scheme common for light and dark mode */\n",
              "  --sklearn-color-text: #000;\n",
              "  --sklearn-color-text-muted: #666;\n",
              "  --sklearn-color-line: gray;\n",
              "  /* Definition of color scheme for unfitted estimators */\n",
              "  --sklearn-color-unfitted-level-0: #fff5e6;\n",
              "  --sklearn-color-unfitted-level-1: #f6e4d2;\n",
              "  --sklearn-color-unfitted-level-2: #ffe0b3;\n",
              "  --sklearn-color-unfitted-level-3: chocolate;\n",
              "  /* Definition of color scheme for fitted estimators */\n",
              "  --sklearn-color-fitted-level-0: #f0f8ff;\n",
              "  --sklearn-color-fitted-level-1: #d4ebff;\n",
              "  --sklearn-color-fitted-level-2: #b3dbfd;\n",
              "  --sklearn-color-fitted-level-3: cornflowerblue;\n",
              "\n",
              "  /* Specific color for light theme */\n",
              "  --sklearn-color-text-on-default-background: var(--sg-text-color, var(--theme-code-foreground, var(--jp-content-font-color1, black)));\n",
              "  --sklearn-color-background: var(--sg-background-color, var(--theme-background, var(--jp-layout-color0, white)));\n",
              "  --sklearn-color-border-box: var(--sg-text-color, var(--theme-code-foreground, var(--jp-content-font-color1, black)));\n",
              "  --sklearn-color-icon: #696969;\n",
              "\n",
              "  @media (prefers-color-scheme: dark) {\n",
              "    /* Redefinition of color scheme for dark theme */\n",
              "    --sklearn-color-text-on-default-background: var(--sg-text-color, var(--theme-code-foreground, var(--jp-content-font-color1, white)));\n",
              "    --sklearn-color-background: var(--sg-background-color, var(--theme-background, var(--jp-layout-color0, #111)));\n",
              "    --sklearn-color-border-box: var(--sg-text-color, var(--theme-code-foreground, var(--jp-content-font-color1, white)));\n",
              "    --sklearn-color-icon: #878787;\n",
              "  }\n",
              "}\n",
              "\n",
              "#sk-container-id-1 {\n",
              "  color: var(--sklearn-color-text);\n",
              "}\n",
              "\n",
              "#sk-container-id-1 pre {\n",
              "  padding: 0;\n",
              "}\n",
              "\n",
              "#sk-container-id-1 input.sk-hidden--visually {\n",
              "  border: 0;\n",
              "  clip: rect(1px 1px 1px 1px);\n",
              "  clip: rect(1px, 1px, 1px, 1px);\n",
              "  height: 1px;\n",
              "  margin: -1px;\n",
              "  overflow: hidden;\n",
              "  padding: 0;\n",
              "  position: absolute;\n",
              "  width: 1px;\n",
              "}\n",
              "\n",
              "#sk-container-id-1 div.sk-dashed-wrapped {\n",
              "  border: 1px dashed var(--sklearn-color-line);\n",
              "  margin: 0 0.4em 0.5em 0.4em;\n",
              "  box-sizing: border-box;\n",
              "  padding-bottom: 0.4em;\n",
              "  background-color: var(--sklearn-color-background);\n",
              "}\n",
              "\n",
              "#sk-container-id-1 div.sk-container {\n",
              "  /* jupyter's `normalize.less` sets `[hidden] { display: none; }`\n",
              "     but bootstrap.min.css set `[hidden] { display: none !important; }`\n",
              "     so we also need the `!important` here to be able to override the\n",
              "     default hidden behavior on the sphinx rendered scikit-learn.org.\n",
              "     See: https://github.com/scikit-learn/scikit-learn/issues/21755 */\n",
              "  display: inline-block !important;\n",
              "  position: relative;\n",
              "}\n",
              "\n",
              "#sk-container-id-1 div.sk-text-repr-fallback {\n",
              "  display: none;\n",
              "}\n",
              "\n",
              "div.sk-parallel-item,\n",
              "div.sk-serial,\n",
              "div.sk-item {\n",
              "  /* draw centered vertical line to link estimators */\n",
              "  background-image: linear-gradient(var(--sklearn-color-text-on-default-background), var(--sklearn-color-text-on-default-background));\n",
              "  background-size: 2px 100%;\n",
              "  background-repeat: no-repeat;\n",
              "  background-position: center center;\n",
              "}\n",
              "\n",
              "/* Parallel-specific style estimator block */\n",
              "\n",
              "#sk-container-id-1 div.sk-parallel-item::after {\n",
              "  content: \"\";\n",
              "  width: 100%;\n",
              "  border-bottom: 2px solid var(--sklearn-color-text-on-default-background);\n",
              "  flex-grow: 1;\n",
              "}\n",
              "\n",
              "#sk-container-id-1 div.sk-parallel {\n",
              "  display: flex;\n",
              "  align-items: stretch;\n",
              "  justify-content: center;\n",
              "  background-color: var(--sklearn-color-background);\n",
              "  position: relative;\n",
              "}\n",
              "\n",
              "#sk-container-id-1 div.sk-parallel-item {\n",
              "  display: flex;\n",
              "  flex-direction: column;\n",
              "}\n",
              "\n",
              "#sk-container-id-1 div.sk-parallel-item:first-child::after {\n",
              "  align-self: flex-end;\n",
              "  width: 50%;\n",
              "}\n",
              "\n",
              "#sk-container-id-1 div.sk-parallel-item:last-child::after {\n",
              "  align-self: flex-start;\n",
              "  width: 50%;\n",
              "}\n",
              "\n",
              "#sk-container-id-1 div.sk-parallel-item:only-child::after {\n",
              "  width: 0;\n",
              "}\n",
              "\n",
              "/* Serial-specific style estimator block */\n",
              "\n",
              "#sk-container-id-1 div.sk-serial {\n",
              "  display: flex;\n",
              "  flex-direction: column;\n",
              "  align-items: center;\n",
              "  background-color: var(--sklearn-color-background);\n",
              "  padding-right: 1em;\n",
              "  padding-left: 1em;\n",
              "}\n",
              "\n",
              "\n",
              "/* Toggleable style: style used for estimator/Pipeline/ColumnTransformer box that is\n",
              "clickable and can be expanded/collapsed.\n",
              "- Pipeline and ColumnTransformer use this feature and define the default style\n",
              "- Estimators will overwrite some part of the style using the `sk-estimator` class\n",
              "*/\n",
              "\n",
              "/* Pipeline and ColumnTransformer style (default) */\n",
              "\n",
              "#sk-container-id-1 div.sk-toggleable {\n",
              "  /* Default theme specific background. It is overwritten whether we have a\n",
              "  specific estimator or a Pipeline/ColumnTransformer */\n",
              "  background-color: var(--sklearn-color-background);\n",
              "}\n",
              "\n",
              "/* Toggleable label */\n",
              "#sk-container-id-1 label.sk-toggleable__label {\n",
              "  cursor: pointer;\n",
              "  display: flex;\n",
              "  width: 100%;\n",
              "  margin-bottom: 0;\n",
              "  padding: 0.5em;\n",
              "  box-sizing: border-box;\n",
              "  text-align: center;\n",
              "  align-items: start;\n",
              "  justify-content: space-between;\n",
              "  gap: 0.5em;\n",
              "}\n",
              "\n",
              "#sk-container-id-1 label.sk-toggleable__label .caption {\n",
              "  font-size: 0.6rem;\n",
              "  font-weight: lighter;\n",
              "  color: var(--sklearn-color-text-muted);\n",
              "}\n",
              "\n",
              "#sk-container-id-1 label.sk-toggleable__label-arrow:before {\n",
              "  /* Arrow on the left of the label */\n",
              "  content: \"▸\";\n",
              "  float: left;\n",
              "  margin-right: 0.25em;\n",
              "  color: var(--sklearn-color-icon);\n",
              "}\n",
              "\n",
              "#sk-container-id-1 label.sk-toggleable__label-arrow:hover:before {\n",
              "  color: var(--sklearn-color-text);\n",
              "}\n",
              "\n",
              "/* Toggleable content - dropdown */\n",
              "\n",
              "#sk-container-id-1 div.sk-toggleable__content {\n",
              "  max-height: 0;\n",
              "  max-width: 0;\n",
              "  overflow: hidden;\n",
              "  text-align: left;\n",
              "  /* unfitted */\n",
              "  background-color: var(--sklearn-color-unfitted-level-0);\n",
              "}\n",
              "\n",
              "#sk-container-id-1 div.sk-toggleable__content.fitted {\n",
              "  /* fitted */\n",
              "  background-color: var(--sklearn-color-fitted-level-0);\n",
              "}\n",
              "\n",
              "#sk-container-id-1 div.sk-toggleable__content pre {\n",
              "  margin: 0.2em;\n",
              "  border-radius: 0.25em;\n",
              "  color: var(--sklearn-color-text);\n",
              "  /* unfitted */\n",
              "  background-color: var(--sklearn-color-unfitted-level-0);\n",
              "}\n",
              "\n",
              "#sk-container-id-1 div.sk-toggleable__content.fitted pre {\n",
              "  /* unfitted */\n",
              "  background-color: var(--sklearn-color-fitted-level-0);\n",
              "}\n",
              "\n",
              "#sk-container-id-1 input.sk-toggleable__control:checked~div.sk-toggleable__content {\n",
              "  /* Expand drop-down */\n",
              "  max-height: 200px;\n",
              "  max-width: 100%;\n",
              "  overflow: auto;\n",
              "}\n",
              "\n",
              "#sk-container-id-1 input.sk-toggleable__control:checked~label.sk-toggleable__label-arrow:before {\n",
              "  content: \"▾\";\n",
              "}\n",
              "\n",
              "/* Pipeline/ColumnTransformer-specific style */\n",
              "\n",
              "#sk-container-id-1 div.sk-label input.sk-toggleable__control:checked~label.sk-toggleable__label {\n",
              "  color: var(--sklearn-color-text);\n",
              "  background-color: var(--sklearn-color-unfitted-level-2);\n",
              "}\n",
              "\n",
              "#sk-container-id-1 div.sk-label.fitted input.sk-toggleable__control:checked~label.sk-toggleable__label {\n",
              "  background-color: var(--sklearn-color-fitted-level-2);\n",
              "}\n",
              "\n",
              "/* Estimator-specific style */\n",
              "\n",
              "/* Colorize estimator box */\n",
              "#sk-container-id-1 div.sk-estimator input.sk-toggleable__control:checked~label.sk-toggleable__label {\n",
              "  /* unfitted */\n",
              "  background-color: var(--sklearn-color-unfitted-level-2);\n",
              "}\n",
              "\n",
              "#sk-container-id-1 div.sk-estimator.fitted input.sk-toggleable__control:checked~label.sk-toggleable__label {\n",
              "  /* fitted */\n",
              "  background-color: var(--sklearn-color-fitted-level-2);\n",
              "}\n",
              "\n",
              "#sk-container-id-1 div.sk-label label.sk-toggleable__label,\n",
              "#sk-container-id-1 div.sk-label label {\n",
              "  /* The background is the default theme color */\n",
              "  color: var(--sklearn-color-text-on-default-background);\n",
              "}\n",
              "\n",
              "/* On hover, darken the color of the background */\n",
              "#sk-container-id-1 div.sk-label:hover label.sk-toggleable__label {\n",
              "  color: var(--sklearn-color-text);\n",
              "  background-color: var(--sklearn-color-unfitted-level-2);\n",
              "}\n",
              "\n",
              "/* Label box, darken color on hover, fitted */\n",
              "#sk-container-id-1 div.sk-label.fitted:hover label.sk-toggleable__label.fitted {\n",
              "  color: var(--sklearn-color-text);\n",
              "  background-color: var(--sklearn-color-fitted-level-2);\n",
              "}\n",
              "\n",
              "/* Estimator label */\n",
              "\n",
              "#sk-container-id-1 div.sk-label label {\n",
              "  font-family: monospace;\n",
              "  font-weight: bold;\n",
              "  display: inline-block;\n",
              "  line-height: 1.2em;\n",
              "}\n",
              "\n",
              "#sk-container-id-1 div.sk-label-container {\n",
              "  text-align: center;\n",
              "}\n",
              "\n",
              "/* Estimator-specific */\n",
              "#sk-container-id-1 div.sk-estimator {\n",
              "  font-family: monospace;\n",
              "  border: 1px dotted var(--sklearn-color-border-box);\n",
              "  border-radius: 0.25em;\n",
              "  box-sizing: border-box;\n",
              "  margin-bottom: 0.5em;\n",
              "  /* unfitted */\n",
              "  background-color: var(--sklearn-color-unfitted-level-0);\n",
              "}\n",
              "\n",
              "#sk-container-id-1 div.sk-estimator.fitted {\n",
              "  /* fitted */\n",
              "  background-color: var(--sklearn-color-fitted-level-0);\n",
              "}\n",
              "\n",
              "/* on hover */\n",
              "#sk-container-id-1 div.sk-estimator:hover {\n",
              "  /* unfitted */\n",
              "  background-color: var(--sklearn-color-unfitted-level-2);\n",
              "}\n",
              "\n",
              "#sk-container-id-1 div.sk-estimator.fitted:hover {\n",
              "  /* fitted */\n",
              "  background-color: var(--sklearn-color-fitted-level-2);\n",
              "}\n",
              "\n",
              "/* Specification for estimator info (e.g. \"i\" and \"?\") */\n",
              "\n",
              "/* Common style for \"i\" and \"?\" */\n",
              "\n",
              ".sk-estimator-doc-link,\n",
              "a:link.sk-estimator-doc-link,\n",
              "a:visited.sk-estimator-doc-link {\n",
              "  float: right;\n",
              "  font-size: smaller;\n",
              "  line-height: 1em;\n",
              "  font-family: monospace;\n",
              "  background-color: var(--sklearn-color-background);\n",
              "  border-radius: 1em;\n",
              "  height: 1em;\n",
              "  width: 1em;\n",
              "  text-decoration: none !important;\n",
              "  margin-left: 0.5em;\n",
              "  text-align: center;\n",
              "  /* unfitted */\n",
              "  border: var(--sklearn-color-unfitted-level-1) 1pt solid;\n",
              "  color: var(--sklearn-color-unfitted-level-1);\n",
              "}\n",
              "\n",
              ".sk-estimator-doc-link.fitted,\n",
              "a:link.sk-estimator-doc-link.fitted,\n",
              "a:visited.sk-estimator-doc-link.fitted {\n",
              "  /* fitted */\n",
              "  border: var(--sklearn-color-fitted-level-1) 1pt solid;\n",
              "  color: var(--sklearn-color-fitted-level-1);\n",
              "}\n",
              "\n",
              "/* On hover */\n",
              "div.sk-estimator:hover .sk-estimator-doc-link:hover,\n",
              ".sk-estimator-doc-link:hover,\n",
              "div.sk-label-container:hover .sk-estimator-doc-link:hover,\n",
              ".sk-estimator-doc-link:hover {\n",
              "  /* unfitted */\n",
              "  background-color: var(--sklearn-color-unfitted-level-3);\n",
              "  color: var(--sklearn-color-background);\n",
              "  text-decoration: none;\n",
              "}\n",
              "\n",
              "div.sk-estimator.fitted:hover .sk-estimator-doc-link.fitted:hover,\n",
              ".sk-estimator-doc-link.fitted:hover,\n",
              "div.sk-label-container:hover .sk-estimator-doc-link.fitted:hover,\n",
              ".sk-estimator-doc-link.fitted:hover {\n",
              "  /* fitted */\n",
              "  background-color: var(--sklearn-color-fitted-level-3);\n",
              "  color: var(--sklearn-color-background);\n",
              "  text-decoration: none;\n",
              "}\n",
              "\n",
              "/* Span, style for the box shown on hovering the info icon */\n",
              ".sk-estimator-doc-link span {\n",
              "  display: none;\n",
              "  z-index: 9999;\n",
              "  position: relative;\n",
              "  font-weight: normal;\n",
              "  right: .2ex;\n",
              "  padding: .5ex;\n",
              "  margin: .5ex;\n",
              "  width: min-content;\n",
              "  min-width: 20ex;\n",
              "  max-width: 50ex;\n",
              "  color: var(--sklearn-color-text);\n",
              "  box-shadow: 2pt 2pt 4pt #999;\n",
              "  /* unfitted */\n",
              "  background: var(--sklearn-color-unfitted-level-0);\n",
              "  border: .5pt solid var(--sklearn-color-unfitted-level-3);\n",
              "}\n",
              "\n",
              ".sk-estimator-doc-link.fitted span {\n",
              "  /* fitted */\n",
              "  background: var(--sklearn-color-fitted-level-0);\n",
              "  border: var(--sklearn-color-fitted-level-3);\n",
              "}\n",
              "\n",
              ".sk-estimator-doc-link:hover span {\n",
              "  display: block;\n",
              "}\n",
              "\n",
              "/* \"?\"-specific style due to the `<a>` HTML tag */\n",
              "\n",
              "#sk-container-id-1 a.estimator_doc_link {\n",
              "  float: right;\n",
              "  font-size: 1rem;\n",
              "  line-height: 1em;\n",
              "  font-family: monospace;\n",
              "  background-color: var(--sklearn-color-background);\n",
              "  border-radius: 1rem;\n",
              "  height: 1rem;\n",
              "  width: 1rem;\n",
              "  text-decoration: none;\n",
              "  /* unfitted */\n",
              "  color: var(--sklearn-color-unfitted-level-1);\n",
              "  border: var(--sklearn-color-unfitted-level-1) 1pt solid;\n",
              "}\n",
              "\n",
              "#sk-container-id-1 a.estimator_doc_link.fitted {\n",
              "  /* fitted */\n",
              "  border: var(--sklearn-color-fitted-level-1) 1pt solid;\n",
              "  color: var(--sklearn-color-fitted-level-1);\n",
              "}\n",
              "\n",
              "/* On hover */\n",
              "#sk-container-id-1 a.estimator_doc_link:hover {\n",
              "  /* unfitted */\n",
              "  background-color: var(--sklearn-color-unfitted-level-3);\n",
              "  color: var(--sklearn-color-background);\n",
              "  text-decoration: none;\n",
              "}\n",
              "\n",
              "#sk-container-id-1 a.estimator_doc_link.fitted:hover {\n",
              "  /* fitted */\n",
              "  background-color: var(--sklearn-color-fitted-level-3);\n",
              "}\n",
              "</style><div id=\"sk-container-id-1\" class=\"sk-top-container\"><div class=\"sk-text-repr-fallback\"><pre>LinearRegression()</pre><b>In a Jupyter environment, please rerun this cell to show the HTML representation or trust the notebook. <br />On GitHub, the HTML representation is unable to render, please try loading this page with nbviewer.org.</b></div><div class=\"sk-container\" hidden><div class=\"sk-item\"><div class=\"sk-estimator fitted sk-toggleable\"><input class=\"sk-toggleable__control sk-hidden--visually\" id=\"sk-estimator-id-1\" type=\"checkbox\" checked><label for=\"sk-estimator-id-1\" class=\"sk-toggleable__label fitted sk-toggleable__label-arrow\"><div><div>LinearRegression</div></div><div><a class=\"sk-estimator-doc-link fitted\" rel=\"noreferrer\" target=\"_blank\" href=\"https://scikit-learn.org/1.6/modules/generated/sklearn.linear_model.LinearRegression.html\">?<span>Documentation for LinearRegression</span></a><span class=\"sk-estimator-doc-link fitted\">i<span>Fitted</span></span></div></label><div class=\"sk-toggleable__content fitted\"><pre>LinearRegression()</pre></div> </div></div></div></div>"
            ]
          },
          "metadata": {},
          "execution_count": 45
        }
      ],
      "source": [
        "# Train model\n",
        "print(\"\\nTraining linear regression model...\")\n",
        "enhanced_model = LinearRegression()\n",
        "enhanced_model.fit(X_train, y_train)"
      ]
    },
    {
      "cell_type": "markdown",
      "id": "7440813b",
      "metadata": {
        "id": "7440813b"
      },
      "source": [
        "STEP 5 - Making Predictions"
      ]
    },
    {
      "cell_type": "code",
      "execution_count": 46,
      "id": "72c6acc0",
      "metadata": {
        "id": "72c6acc0"
      },
      "outputs": [],
      "source": [
        "# Make predictions\n",
        "y_pred_enhanced = enhanced_model.predict(X_test)"
      ]
    },
    {
      "cell_type": "markdown",
      "id": "bd9cc851",
      "metadata": {
        "id": "bd9cc851"
      },
      "source": [
        "STEP 6 - Evaluating the Model"
      ]
    },
    {
      "cell_type": "code",
      "execution_count": 47,
      "id": "50f9dd7d",
      "metadata": {
        "colab": {
          "base_uri": "https://localhost:8080/"
        },
        "id": "50f9dd7d",
        "outputId": "df937958-28c1-4e8b-c698-c2bd9071c462"
      },
      "outputs": [
        {
          "output_type": "stream",
          "name": "stdout",
          "text": [
            "\n",
            "Model Results:\n",
            "- Mean Squared Error: 8.19 \n",
            "- R² Score: 0.67\n",
            "\n",
            "Feature Importance:\n",
            "- Adult Mortality: -0.0257\n",
            "- Schooling: 1.3347\n",
            "- Is_Developed: 5.4622\n",
            "- Health_Risk_Factor: -0.0457\n",
            "- Basic_Services_Access: -0.1600\n"
          ]
        }
      ],
      "source": [
        "# Evaluate model\n",
        "mse_enhanced = mean_squared_error(y_test, y_pred_enhanced)\n",
        "r2_enhanced = r2_score(y_test, y_pred_enhanced)\n",
        "\n",
        "print(f\"\\nModel Results:\")\n",
        "print(f\"- Mean Squared Error: {mse_enhanced:.2f} \")\n",
        "print(f\"- R² Score: {r2_enhanced:.2f}\")\n",
        "\n",
        "# Feature importance\n",
        "print(\"\\nFeature Importance:\")\n",
        "for feature, coefficient in zip(features, enhanced_model.coef_):\n",
        "    print(f\"- {feature}: {coefficient:.4f}\")"
      ]
    },
    {
      "cell_type": "markdown",
      "id": "8e261dd2",
      "metadata": {
        "id": "8e261dd2"
      },
      "source": [
        "STEP 7 - Compare with Original Model"
      ]
    },
    {
      "cell_type": "code",
      "execution_count": 48,
      "id": "e6cbd424",
      "metadata": {
        "colab": {
          "base_uri": "https://localhost:8080/"
        },
        "id": "e6cbd424",
        "outputId": "54282922-d838-4960-e904-11b7002426d4"
      },
      "outputs": [
        {
          "output_type": "stream",
          "name": "stdout",
          "text": [
            "\n",
            "Model Comparison:\n",
            "\n",
            "- Basic Model R²: 0.688\n",
            "\n",
            "- Enhanced Model R²: 0.665\n",
            "\n",
            "- Change: -3.3%\n",
            "\n",
            "New model performs worse - this suggests feature redundancy\n",
            "\n",
            "The new features may be too similar to existing ones\n",
            "\n",
            "Should consider: fewer features, different combinations, or feature selection\n"
          ]
        }
      ],
      "source": [
        "# Compare with original model (using basic features)\n",
        "basic_features = ['Average AQI', 'Adult Mortality', 'GDP', 'Schooling', 'Is_Developed']\n",
        "X_basic = combined_data[basic_features]\n",
        "X_train_basic, X_test_basic, _, _ = train_test_split(X_basic, y, test_size=0.2, random_state=42)\n",
        "\n",
        "basic_model = LinearRegression()\n",
        "basic_model.fit(X_train_basic, y_train)\n",
        "y_pred_basic = basic_model.predict(X_test_basic)\n",
        "r2_basic = r2_score(y_test, y_pred_basic)\n",
        "\n",
        "print(f\"\\nModel Comparison:\")\n",
        "print(f\"\\n- Basic Model R²: {r2_basic:.3f}\")\n",
        "print(f\"\\n- Enhanced Model R²: {r2_enhanced:.3f}\")\n",
        "improvement = ((r2_enhanced - r2_basic) / r2_basic * 100)\n",
        "print(f\"\\n- Change: {improvement:+.1f}%\")\n",
        "\n",
        "if improvement > 0:\n",
        "    print(\"\\nNew model performs better!\")\n",
        "else:\n",
        "    print(\"\\nNew model performs worse - this suggests feature redundancy\")\n",
        "    print(\"\\nThe new features may be too similar to existing ones\")\n",
        "    print(\"\\nShould consider: fewer features, different combinations, or feature selection\")"
      ]
    },
    {
      "cell_type": "markdown",
      "id": "d0088d55",
      "metadata": {
        "id": "d0088d55"
      },
      "source": [
        "Actual vs Predicted Life Expectancy Plotting"
      ]
    },
    {
      "cell_type": "code",
      "execution_count": 49,
      "id": "0e962b72",
      "metadata": {
        "colab": {
          "base_uri": "https://localhost:8080/",
          "height": 487
        },
        "id": "0e962b72",
        "outputId": "e88aa77d-5dd7-4833-dd13-c14882cd10bd"
      },
      "outputs": [
        {
          "output_type": "display_data",
          "data": {
            "text/plain": [
              "<Figure size 1200x500 with 1 Axes>"
            ],
            "image/png": "[encoded data removed]"
          },
          "metadata": {}
        }
      ],
      "source": [
        "# Visualizations for model\n",
        "plt.figure(figsize=(12, 5))\n",
        "\n",
        "# Actual vs predicted\n",
        "plt.subplot(1, 2, 1)\n",
        "plt.scatter(y_test, y_pred_enhanced, color='green', alpha=0.7)\n",
        "plt.plot([min(y_test), max(y_test)], [min(y_test), max(y_test)], 'r--')\n",
        "plt.xlabel('Actual Life Expectancy')\n",
        "plt.ylabel('Predicted Life Expectancy')\n",
        "plt.title(f'New Model: Actual vs Predicted (R² = {r2_enhanced:.3f})')\n",
        "plt.grid(True, alpha=0.3)"
      ]
    },
    {
      "cell_type": "markdown",
      "id": "47ebfb55",
      "metadata": {
        "id": "47ebfb55"
      },
      "source": [
        "Bar Chart of Importance Features"
      ]
    },
    {
      "cell_type": "code",
      "execution_count": 50,
      "id": "a12dae7a",
      "metadata": {
        "id": "a12dae7a"
      },
      "outputs": [],
      "source": [
        "# Feature importance\n",
        "plt.subplot(1, 2, 2)\n",
        "abs_coefficients = [abs(coef) for coef in enhanced_model.coef_]\n",
        "importance_df = pd.DataFrame({'Feature': features, 'Importance': abs_coefficients})\n",
        "importance_df = importance_df.sort_values('Importance', ascending=True)\n",
        "\n",
        "plt.barh(importance_df['Feature'], importance_df['Importance'])\n",
        "plt.title('New Model Feature Importance')\n",
        "plt.xlabel('Absolute Coefficient Value')\n",
        "\n",
        "plt.tight_layout()\n",
        "plt.savefig('images/ml_results.png', dpi=300, bbox_inches='tight')\n",
        "plt.close()"
      ]
    },
    {
      "cell_type": "markdown",
      "id": "2c436345",
      "metadata": {
        "id": "2c436345"
      },
      "source": [
        "Prediction of Life Expectancy with the Model Via Diverse AQI Values"
      ]
    },
    {
      "cell_type": "code",
      "execution_count": 51,
      "id": "ee60ff67",
      "metadata": {
        "colab": {
          "base_uri": "https://localhost:8080/"
        },
        "id": "ee60ff67",
        "outputId": "667964e6-4f2d-40b7-dbd8-467a0652ead9"
      },
      "outputs": [
        {
          "output_type": "stream",
          "name": "stdout",
          "text": [
            "\n",
            " Model Predictions for Different Scenarios:\n",
            "Using  model to predict life expectancy...\n",
            "\n",
            "- Low Environmental Impact, High Development:\n",
            "  Predicted Life Expectancy: 73.91 years\n",
            "\n",
            "- High Environmental Impact, Low Development:\n",
            "  Predicted Life Expectancy: 73.91 years\n",
            "\n",
            "- Moderate Environmental Impact, High Health Investment:\n",
            "  Predicted Life Expectancy: 73.91 years\n",
            "\n",
            "- High Environmental Risk, Poor Health System:\n",
            "  Predicted Life Expectancy: 73.91 years\n",
            "\n",
            " Machine learning analysis completed!\n",
            "Visualizations saved to 'images' folder.\n"
          ]
        }
      ],
      "source": [
        "#  prediction analysis\n",
        "print(\"\\n Model Predictions for Different Scenarios:\")\n",
        "print(\"Using  model to predict life expectancy...\")\n",
        "\n",
        "# Create scenarios with  features\n",
        "scenarios = [\n",
        "    {\"name\": \"Low Environmental Impact, High Development\",\n",
        "     \"Environmental_Impact_Score\": 30, \"Development_Score\": 90},\n",
        "    {\"name\": \"High Environmental Impact, Low Development\",\n",
        "     \"Environmental_Impact_Score\": 120, \"Development_Score\": 40},\n",
        "    {\"name\": \"Moderate Environmental Impact, High Health Investment\",\n",
        "     \"Environmental_Impact_Score\": 70, \"Health_Investment_Index\": 85},\n",
        "    {\"name\": \"High Environmental Risk, Poor Health System\",\n",
        "     \"Environmental_Impact_Score\": 100, \"Health_Investment_Index\": 25}\n",
        "]\n",
        "\n",
        "# Use average values for other features\n",
        "avg_values = {}\n",
        "for feature in features:\n",
        "    if feature not in ['Environmental_Impact_Score', 'Development_Score', 'Health_Investment_Index']:\n",
        "        avg_values[feature] = X[feature].mean()\n",
        "\n",
        "for scenario in scenarios:\n",
        "    test_data = avg_values.copy()\n",
        "    test_data.update(scenario)\n",
        "\n",
        "    scenario_name = test_data.pop('name', scenario['name'])\n",
        "\n",
        "    for feature in features:\n",
        "        if feature not in test_data:\n",
        "            test_data[feature] = X[feature].mean()\n",
        "\n",
        "    # Create DataFrame with correct feature order\n",
        "    test_df = pd.DataFrame([test_data])[features]\n",
        "    prediction = enhanced_model.predict(test_df)[0]\n",
        "\n",
        "    print(f\"\\n- {scenario_name}:\")\n",
        "    print(f\"  Predicted Life Expectancy: {prediction:.2f} years\")\n",
        "\n",
        "print(\"\\n Machine learning analysis completed!\")\n",
        "print(\"Visualizations saved to 'images' folder.\")"
      ]
    }
  ],
  "metadata": {
    "kernelspec": {
      "display_name": "Python 3",
      "language": "python",
      "name": "python3"
    },
    "language_info": {
      "codemirror_mode": {
        "name": "ipython",
        "version": 3
      },
      "file_extension": ".py",
      "mimetype": "text/x-python",
      "name": "python",
      "nbconvert_exporter": "python",
      "pygments_lexer": "ipython3",
      "version": "3.12.6"
    },
    "colab": {
      "provenance": []
    }
  },
  "nbformat": 4,
  "nbformat_minor": 5
}